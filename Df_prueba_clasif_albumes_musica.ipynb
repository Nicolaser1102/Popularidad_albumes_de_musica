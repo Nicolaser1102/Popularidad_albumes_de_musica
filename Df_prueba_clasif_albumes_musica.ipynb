{
  "nbformat": 4,
  "nbformat_minor": 0,
  "metadata": {
    "colab": {
      "name": "Df_prueba_cls_albumes_musica.ipynb",
      "provenance": []
    },
    "kernelspec": {
      "name": "python3",
      "display_name": "Python 3"
    },
    "language_info": {
      "name": "python"
    }
  },
  "cells": [
    {
      "cell_type": "markdown",
      "source": [
        "# CODING DOJO \n",
        "## Fecha creación:12/2/2022\n",
        "## Fecha de actualización: 13/3/2022\n",
        "## Esteban Simbaña\n",
        "\n",
        "# Ejercicio de Potenciación del gradiente (Concurso de Kaggle)\n",
        "\n"
      ],
      "metadata": {
        "id": "bq_2G4Jphswm"
      }
    },
    {
      "cell_type": "markdown",
      "source": [
        "#**Limpieza de datos - Base de datos de prueba**"
      ],
      "metadata": {
        "id": "p6PhYYq9iC9a"
      }
    },
    {
      "cell_type": "code",
      "execution_count": 1,
      "metadata": {
        "colab": {
          "base_uri": "https://localhost:8080/"
        },
        "id": "NMz21uCe-XTl",
        "outputId": "5c95cb84-f371-4995-c272-d56d48f33bfc"
      },
      "outputs": [
        {
          "output_type": "stream",
          "name": "stdout",
          "text": [
            "Mounted at /content/drive\n"
          ]
        }
      ],
      "source": [
        "from google.colab import drive\n",
        "drive.mount('/content/drive')"
      ]
    },
    {
      "cell_type": "code",
      "source": [
        "import pandas as pd\n",
        "import matplotlib.pyplot as plt\n",
        "import seaborn as sns\n",
        "import numpy as np\n"
      ],
      "metadata": {
        "id": "5pmZCOLK-bWs"
      },
      "execution_count": 2,
      "outputs": []
    },
    {
      "cell_type": "code",
      "source": [
        "nombrearchivo = '/content/drive/MyDrive/Coding Dojo/Proyecto 2/test.csv'\n",
        "df = pd.read_csv(nombrearchivo)\n",
        "df.head()"
      ],
      "metadata": {
        "colab": {
          "base_uri": "https://localhost:8080/",
          "height": 401
        },
        "id": "TG5Fmdlk-wNd",
        "outputId": "577c08d2-31d0-438c-a889-fbfa2ee9a648"
      },
      "execution_count": 3,
      "outputs": [
        {
          "output_type": "execute_result",
          "data": {
            "text/plain": [
              "       id                    name release_date                       artists  \\\n",
              "0  160000             Vizlaxy One   2021-08-24                 The Vizlaxy,    \n",
              "1  160001  OTW (Acoustic Version)   2018-06-25              Missy & Blonde,    \n",
              "2  160002            Ocean Avenue   2003-01-01                  Yellowcard,    \n",
              "3  160003  Bloomsday (Remastered)   2018-02-16                        Esbe,    \n",
              "4  160004                Miss You   2021-09-03  SLANDER, Ganja White Night,    \n",
              "\n",
              "   total_tracks                 t_name0                           t_name1  \\\n",
              "0            11                    Ciko                             Kumne   \n",
              "1             1  OTW - Acoustic Version                               NaN   \n",
              "2            13                Way Away                         Breathing   \n",
              "3            19      Float - Remastered  Fulfill / The Dream - Remastered   \n",
              "4             1                Miss You                               NaN   \n",
              "\n",
              "                   t_name2  t_dur0    t_dur1  ...  t_live2  t_val0  t_val1  \\\n",
              "0                  Pod Sem   34901   33343.0  ...   0.0785  0.0397  0.0381   \n",
              "1                      NaN  201655       NaN  ...      NaN  0.5300     NaN   \n",
              "2             Ocean Avenue  202093  218706.0  ...   0.0947  0.3640  0.5700   \n",
              "3  Wanderlust - Remastered  182783  416000.0  ...   0.2600  0.4560  0.1070   \n",
              "4                      NaN  200000       NaN  ...      NaN  0.0526     NaN   \n",
              "\n",
              "   t_val2  t_tempo0  t_tempo1  t_tempo2  t_sig0  t_sig1  t_sig2  \n",
              "0  0.0374    89.674    84.987   122.585     3.0     4.0     4.0  \n",
              "1     NaN   129.998       NaN       NaN     4.0     NaN     NaN  \n",
              "2  0.7860   179.644   179.581   173.734     4.0     4.0     4.0  \n",
              "3  0.5830   194.107    89.533   134.016     3.0     4.0     4.0  \n",
              "4     NaN    74.473       NaN       NaN     4.0     NaN     NaN  \n",
              "\n",
              "[5 rows x 44 columns]"
            ],
            "text/html": [
              "\n",
              "  <div id=\"df-4da34707-32c1-4931-b6f8-48bdd2dbcd1b\">\n",
              "    <div class=\"colab-df-container\">\n",
              "      <div>\n",
              "<style scoped>\n",
              "    .dataframe tbody tr th:only-of-type {\n",
              "        vertical-align: middle;\n",
              "    }\n",
              "\n",
              "    .dataframe tbody tr th {\n",
              "        vertical-align: top;\n",
              "    }\n",
              "\n",
              "    .dataframe thead th {\n",
              "        text-align: right;\n",
              "    }\n",
              "</style>\n",
              "<table border=\"1\" class=\"dataframe\">\n",
              "  <thead>\n",
              "    <tr style=\"text-align: right;\">\n",
              "      <th></th>\n",
              "      <th>id</th>\n",
              "      <th>name</th>\n",
              "      <th>release_date</th>\n",
              "      <th>artists</th>\n",
              "      <th>total_tracks</th>\n",
              "      <th>t_name0</th>\n",
              "      <th>t_name1</th>\n",
              "      <th>t_name2</th>\n",
              "      <th>t_dur0</th>\n",
              "      <th>t_dur1</th>\n",
              "      <th>...</th>\n",
              "      <th>t_live2</th>\n",
              "      <th>t_val0</th>\n",
              "      <th>t_val1</th>\n",
              "      <th>t_val2</th>\n",
              "      <th>t_tempo0</th>\n",
              "      <th>t_tempo1</th>\n",
              "      <th>t_tempo2</th>\n",
              "      <th>t_sig0</th>\n",
              "      <th>t_sig1</th>\n",
              "      <th>t_sig2</th>\n",
              "    </tr>\n",
              "  </thead>\n",
              "  <tbody>\n",
              "    <tr>\n",
              "      <th>0</th>\n",
              "      <td>160000</td>\n",
              "      <td>Vizlaxy One</td>\n",
              "      <td>2021-08-24</td>\n",
              "      <td>The Vizlaxy,</td>\n",
              "      <td>11</td>\n",
              "      <td>Ciko</td>\n",
              "      <td>Kumne</td>\n",
              "      <td>Pod Sem</td>\n",
              "      <td>34901</td>\n",
              "      <td>33343.0</td>\n",
              "      <td>...</td>\n",
              "      <td>0.0785</td>\n",
              "      <td>0.0397</td>\n",
              "      <td>0.0381</td>\n",
              "      <td>0.0374</td>\n",
              "      <td>89.674</td>\n",
              "      <td>84.987</td>\n",
              "      <td>122.585</td>\n",
              "      <td>3.0</td>\n",
              "      <td>4.0</td>\n",
              "      <td>4.0</td>\n",
              "    </tr>\n",
              "    <tr>\n",
              "      <th>1</th>\n",
              "      <td>160001</td>\n",
              "      <td>OTW (Acoustic Version)</td>\n",
              "      <td>2018-06-25</td>\n",
              "      <td>Missy &amp; Blonde,</td>\n",
              "      <td>1</td>\n",
              "      <td>OTW - Acoustic Version</td>\n",
              "      <td>NaN</td>\n",
              "      <td>NaN</td>\n",
              "      <td>201655</td>\n",
              "      <td>NaN</td>\n",
              "      <td>...</td>\n",
              "      <td>NaN</td>\n",
              "      <td>0.5300</td>\n",
              "      <td>NaN</td>\n",
              "      <td>NaN</td>\n",
              "      <td>129.998</td>\n",
              "      <td>NaN</td>\n",
              "      <td>NaN</td>\n",
              "      <td>4.0</td>\n",
              "      <td>NaN</td>\n",
              "      <td>NaN</td>\n",
              "    </tr>\n",
              "    <tr>\n",
              "      <th>2</th>\n",
              "      <td>160002</td>\n",
              "      <td>Ocean Avenue</td>\n",
              "      <td>2003-01-01</td>\n",
              "      <td>Yellowcard,</td>\n",
              "      <td>13</td>\n",
              "      <td>Way Away</td>\n",
              "      <td>Breathing</td>\n",
              "      <td>Ocean Avenue</td>\n",
              "      <td>202093</td>\n",
              "      <td>218706.0</td>\n",
              "      <td>...</td>\n",
              "      <td>0.0947</td>\n",
              "      <td>0.3640</td>\n",
              "      <td>0.5700</td>\n",
              "      <td>0.7860</td>\n",
              "      <td>179.644</td>\n",
              "      <td>179.581</td>\n",
              "      <td>173.734</td>\n",
              "      <td>4.0</td>\n",
              "      <td>4.0</td>\n",
              "      <td>4.0</td>\n",
              "    </tr>\n",
              "    <tr>\n",
              "      <th>3</th>\n",
              "      <td>160003</td>\n",
              "      <td>Bloomsday (Remastered)</td>\n",
              "      <td>2018-02-16</td>\n",
              "      <td>Esbe,</td>\n",
              "      <td>19</td>\n",
              "      <td>Float - Remastered</td>\n",
              "      <td>Fulfill / The Dream - Remastered</td>\n",
              "      <td>Wanderlust - Remastered</td>\n",
              "      <td>182783</td>\n",
              "      <td>416000.0</td>\n",
              "      <td>...</td>\n",
              "      <td>0.2600</td>\n",
              "      <td>0.4560</td>\n",
              "      <td>0.1070</td>\n",
              "      <td>0.5830</td>\n",
              "      <td>194.107</td>\n",
              "      <td>89.533</td>\n",
              "      <td>134.016</td>\n",
              "      <td>3.0</td>\n",
              "      <td>4.0</td>\n",
              "      <td>4.0</td>\n",
              "    </tr>\n",
              "    <tr>\n",
              "      <th>4</th>\n",
              "      <td>160004</td>\n",
              "      <td>Miss You</td>\n",
              "      <td>2021-09-03</td>\n",
              "      <td>SLANDER, Ganja White Night,</td>\n",
              "      <td>1</td>\n",
              "      <td>Miss You</td>\n",
              "      <td>NaN</td>\n",
              "      <td>NaN</td>\n",
              "      <td>200000</td>\n",
              "      <td>NaN</td>\n",
              "      <td>...</td>\n",
              "      <td>NaN</td>\n",
              "      <td>0.0526</td>\n",
              "      <td>NaN</td>\n",
              "      <td>NaN</td>\n",
              "      <td>74.473</td>\n",
              "      <td>NaN</td>\n",
              "      <td>NaN</td>\n",
              "      <td>4.0</td>\n",
              "      <td>NaN</td>\n",
              "      <td>NaN</td>\n",
              "    </tr>\n",
              "  </tbody>\n",
              "</table>\n",
              "<p>5 rows × 44 columns</p>\n",
              "</div>\n",
              "      <button class=\"colab-df-convert\" onclick=\"convertToInteractive('df-4da34707-32c1-4931-b6f8-48bdd2dbcd1b')\"\n",
              "              title=\"Convert this dataframe to an interactive table.\"\n",
              "              style=\"display:none;\">\n",
              "        \n",
              "  <svg xmlns=\"http://www.w3.org/2000/svg\" height=\"24px\"viewBox=\"0 0 24 24\"\n",
              "       width=\"24px\">\n",
              "    <path d=\"M0 0h24v24H0V0z\" fill=\"none\"/>\n",
              "    <path d=\"M18.56 5.44l.94 2.06.94-2.06 2.06-.94-2.06-.94-.94-2.06-.94 2.06-2.06.94zm-11 1L8.5 8.5l.94-2.06 2.06-.94-2.06-.94L8.5 2.5l-.94 2.06-2.06.94zm10 10l.94 2.06.94-2.06 2.06-.94-2.06-.94-.94-2.06-.94 2.06-2.06.94z\"/><path d=\"M17.41 7.96l-1.37-1.37c-.4-.4-.92-.59-1.43-.59-.52 0-1.04.2-1.43.59L10.3 9.45l-7.72 7.72c-.78.78-.78 2.05 0 2.83L4 21.41c.39.39.9.59 1.41.59.51 0 1.02-.2 1.41-.59l7.78-7.78 2.81-2.81c.8-.78.8-2.07 0-2.86zM5.41 20L4 18.59l7.72-7.72 1.47 1.35L5.41 20z\"/>\n",
              "  </svg>\n",
              "      </button>\n",
              "      \n",
              "  <style>\n",
              "    .colab-df-container {\n",
              "      display:flex;\n",
              "      flex-wrap:wrap;\n",
              "      gap: 12px;\n",
              "    }\n",
              "\n",
              "    .colab-df-convert {\n",
              "      background-color: #E8F0FE;\n",
              "      border: none;\n",
              "      border-radius: 50%;\n",
              "      cursor: pointer;\n",
              "      display: none;\n",
              "      fill: #1967D2;\n",
              "      height: 32px;\n",
              "      padding: 0 0 0 0;\n",
              "      width: 32px;\n",
              "    }\n",
              "\n",
              "    .colab-df-convert:hover {\n",
              "      background-color: #E2EBFA;\n",
              "      box-shadow: 0px 1px 2px rgba(60, 64, 67, 0.3), 0px 1px 3px 1px rgba(60, 64, 67, 0.15);\n",
              "      fill: #174EA6;\n",
              "    }\n",
              "\n",
              "    [theme=dark] .colab-df-convert {\n",
              "      background-color: #3B4455;\n",
              "      fill: #D2E3FC;\n",
              "    }\n",
              "\n",
              "    [theme=dark] .colab-df-convert:hover {\n",
              "      background-color: #434B5C;\n",
              "      box-shadow: 0px 1px 3px 1px rgba(0, 0, 0, 0.15);\n",
              "      filter: drop-shadow(0px 1px 2px rgba(0, 0, 0, 0.3));\n",
              "      fill: #FFFFFF;\n",
              "    }\n",
              "  </style>\n",
              "\n",
              "      <script>\n",
              "        const buttonEl =\n",
              "          document.querySelector('#df-4da34707-32c1-4931-b6f8-48bdd2dbcd1b button.colab-df-convert');\n",
              "        buttonEl.style.display =\n",
              "          google.colab.kernel.accessAllowed ? 'block' : 'none';\n",
              "\n",
              "        async function convertToInteractive(key) {\n",
              "          const element = document.querySelector('#df-4da34707-32c1-4931-b6f8-48bdd2dbcd1b');\n",
              "          const dataTable =\n",
              "            await google.colab.kernel.invokeFunction('convertToInteractive',\n",
              "                                                     [key], {});\n",
              "          if (!dataTable) return;\n",
              "\n",
              "          const docLinkHtml = 'Like what you see? Visit the ' +\n",
              "            '<a target=\"_blank\" href=https://colab.research.google.com/notebooks/data_table.ipynb>data table notebook</a>'\n",
              "            + ' to learn more about interactive tables.';\n",
              "          element.innerHTML = '';\n",
              "          dataTable['output_type'] = 'display_data';\n",
              "          await google.colab.output.renderOutput(dataTable, element);\n",
              "          const docLink = document.createElement('div');\n",
              "          docLink.innerHTML = docLinkHtml;\n",
              "          element.appendChild(docLink);\n",
              "        }\n",
              "      </script>\n",
              "    </div>\n",
              "  </div>\n",
              "  "
            ]
          },
          "metadata": {},
          "execution_count": 3
        }
      ]
    },
    {
      "cell_type": "code",
      "source": [
        "df.shape"
      ],
      "metadata": {
        "colab": {
          "base_uri": "https://localhost:8080/"
        },
        "id": "LMjdjJPx-1_u",
        "outputId": "386adc15-e87d-4fba-afc8-b86ede25f94d"
      },
      "execution_count": 4,
      "outputs": [
        {
          "output_type": "execute_result",
          "data": {
            "text/plain": [
              "(21207, 44)"
            ]
          },
          "metadata": {},
          "execution_count": 4
        }
      ]
    },
    {
      "cell_type": "markdown",
      "metadata": {
        "id": "ZaBvsLbHSAMu"
      },
      "source": [
        "# Limpieza de datos"
      ]
    },
    {
      "cell_type": "code",
      "execution_count": 5,
      "metadata": {
        "colab": {
          "base_uri": "https://localhost:8080/"
        },
        "id": "sdkH_b9szZuA",
        "outputId": "6d8f5764-c75e-4c67-81e6-d10471fb57aa"
      },
      "outputs": [
        {
          "output_type": "stream",
          "name": "stdout",
          "text": [
            "<class 'pandas.core.frame.DataFrame'>\n",
            "RangeIndex: 21207 entries, 0 to 21206\n",
            "Data columns (total 44 columns):\n",
            " #   Column        Non-Null Count  Dtype  \n",
            "---  ------        --------------  -----  \n",
            " 0   id            21207 non-null  int64  \n",
            " 1   name          21206 non-null  object \n",
            " 2   release_date  21207 non-null  object \n",
            " 3   artists       21207 non-null  object \n",
            " 4   total_tracks  21207 non-null  int64  \n",
            " 5   t_name0       21206 non-null  object \n",
            " 6   t_name1       14919 non-null  object \n",
            " 7   t_name2       14417 non-null  object \n",
            " 8   t_dur0        21207 non-null  int64  \n",
            " 9   t_dur1        14919 non-null  float64\n",
            " 10  t_dur2        14417 non-null  float64\n",
            " 11  t_dance0      21171 non-null  float64\n",
            " 12  t_dance1      14905 non-null  float64\n",
            " 13  t_dance2      14411 non-null  float64\n",
            " 14  t_energy0     21171 non-null  float64\n",
            " 15  t_energy1     14905 non-null  float64\n",
            " 16  t_energy2     14411 non-null  float64\n",
            " 17  t_key0        21171 non-null  float64\n",
            " 18  t_key1        14905 non-null  float64\n",
            " 19  t_key2        14411 non-null  float64\n",
            " 20  t_mode0       21171 non-null  float64\n",
            " 21  t_mode1       14905 non-null  float64\n",
            " 22  t_mode2       14411 non-null  float64\n",
            " 23  t_speech0     21171 non-null  float64\n",
            " 24  t_speech1     14905 non-null  float64\n",
            " 25  t_speech2     14411 non-null  float64\n",
            " 26  t_acous0      21171 non-null  float64\n",
            " 27  t_acous1      14905 non-null  float64\n",
            " 28  t_acous2      14411 non-null  float64\n",
            " 29  t_ins0        21171 non-null  float64\n",
            " 30  t_ins1        14905 non-null  float64\n",
            " 31  t_ins2        14411 non-null  float64\n",
            " 32  t_live0       21171 non-null  float64\n",
            " 33  t_live1       14905 non-null  float64\n",
            " 34  t_live2       14411 non-null  float64\n",
            " 35  t_val0        21171 non-null  float64\n",
            " 36  t_val1        14905 non-null  float64\n",
            " 37  t_val2        14411 non-null  float64\n",
            " 38  t_tempo0      21171 non-null  float64\n",
            " 39  t_tempo1      14905 non-null  float64\n",
            " 40  t_tempo2      14411 non-null  float64\n",
            " 41  t_sig0        21171 non-null  float64\n",
            " 42  t_sig1        14905 non-null  float64\n",
            " 43  t_sig2        14411 non-null  float64\n",
            "dtypes: float64(35), int64(3), object(6)\n",
            "memory usage: 7.1+ MB\n"
          ]
        }
      ],
      "source": [
        "df.info()"
      ]
    },
    {
      "cell_type": "markdown",
      "metadata": {
        "id": "gOjtAsudTuRr"
      },
      "source": [
        "Apartamos las columnas que tienen muchos datos faltantes para comprobar si se pueden eliminar"
      ]
    },
    {
      "cell_type": "code",
      "execution_count": 6,
      "metadata": {
        "colab": {
          "base_uri": "https://localhost:8080/"
        },
        "id": "p04Gd9RGUTa7",
        "outputId": "6c6b3fce-2a07-4079-968b-ac9c7a1e94cf"
      },
      "outputs": [
        {
          "output_type": "execute_result",
          "data": {
            "text/plain": [
              "name            1\n",
              "t_name0         1\n",
              "t_name1      6288\n",
              "t_name2      6790\n",
              "t_dur1       6288\n",
              "t_dur2       6790\n",
              "t_dance0       36\n",
              "t_dance1     6302\n",
              "t_dance2     6796\n",
              "t_energy0      36\n",
              "t_energy1    6302\n",
              "t_energy2    6796\n",
              "t_key0         36\n",
              "t_key1       6302\n",
              "t_key2       6796\n",
              "t_mode0        36\n",
              "t_mode1      6302\n",
              "t_mode2      6796\n",
              "t_speech0      36\n",
              "t_speech1    6302\n",
              "t_speech2    6796\n",
              "t_acous0       36\n",
              "t_acous1     6302\n",
              "t_acous2     6796\n",
              "t_ins0         36\n",
              "t_ins1       6302\n",
              "t_ins2       6796\n",
              "t_live0        36\n",
              "t_live1      6302\n",
              "t_live2      6796\n",
              "t_val0         36\n",
              "t_val1       6302\n",
              "t_val2       6796\n",
              "t_tempo0       36\n",
              "t_tempo1     6302\n",
              "t_tempo2     6796\n",
              "t_sig0         36\n",
              "t_sig1       6302\n",
              "t_sig2       6796\n",
              "dtype: int64"
            ]
          },
          "metadata": {},
          "execution_count": 6
        }
      ],
      "source": [
        "#Se muestran las columnas que tienen datos faltantes\n",
        "miss_values_count = df.isnull().sum(min_count=1)\n",
        "miss_values_count_b = miss_values_count[miss_values_count != 0]\n",
        "miss_values_count_b"
      ]
    },
    {
      "cell_type": "markdown",
      "metadata": {
        "id": "Gnsfi7uiVaEv"
      },
      "source": [
        "Se observa un patrón donde las canciones seleccionadas 2 y 3, en sus características existen una gran parte de datos faltantes.\n",
        "\n",
        "Ya que el 30% de datos faltantes se consideran que pueden ser eliminadas"
      ]
    },
    {
      "cell_type": "markdown",
      "metadata": {
        "id": "gqXWnH3oc0M9"
      },
      "source": [
        "En este caso al tener una df extensa se optará a que las columnas que tengan un número grande de filas con datos faltantes, eliminarlas"
      ]
    },
    {
      "cell_type": "code",
      "execution_count": 7,
      "metadata": {
        "colab": {
          "base_uri": "https://localhost:8080/"
        },
        "id": "tchjizbLlPH3",
        "outputId": "08fa5b79-4881-4630-8aaa-6a0fa5ec025c"
      },
      "outputs": [
        {
          "output_type": "execute_result",
          "data": {
            "text/plain": [
              "['name',\n",
              " 't_name0',\n",
              " 't_name1',\n",
              " 't_name2',\n",
              " 't_dur1',\n",
              " 't_dur2',\n",
              " 't_dance0',\n",
              " 't_dance1',\n",
              " 't_dance2',\n",
              " 't_energy0',\n",
              " 't_energy1',\n",
              " 't_energy2',\n",
              " 't_key0',\n",
              " 't_key1',\n",
              " 't_key2',\n",
              " 't_mode0',\n",
              " 't_mode1',\n",
              " 't_mode2',\n",
              " 't_speech0',\n",
              " 't_speech1',\n",
              " 't_speech2',\n",
              " 't_acous0',\n",
              " 't_acous1',\n",
              " 't_acous2',\n",
              " 't_ins0',\n",
              " 't_ins1',\n",
              " 't_ins2',\n",
              " 't_live0',\n",
              " 't_live1',\n",
              " 't_live2',\n",
              " 't_val0',\n",
              " 't_val1',\n",
              " 't_val2',\n",
              " 't_tempo0',\n",
              " 't_tempo1',\n",
              " 't_tempo2',\n",
              " 't_sig0',\n",
              " 't_sig1',\n",
              " 't_sig2']"
            ]
          },
          "metadata": {},
          "execution_count": 7
        }
      ],
      "source": [
        "#creamos lista de nombres de las columnas \n",
        "nombres_columnas = list(miss_values_count_b.keys())\n",
        "nombres_columnas"
      ]
    },
    {
      "cell_type": "code",
      "execution_count": 8,
      "metadata": {
        "id": "whqmzNDTeTG0"
      },
      "outputs": [],
      "source": [
        "columnas_drop = []\n",
        "for i in range (len(miss_values_count_b)):\n",
        "  if (miss_values_count_b[i] > 220):\n",
        "      columnas_drop.append(nombres_columnas[i])"
      ]
    },
    {
      "cell_type": "code",
      "execution_count": 9,
      "metadata": {
        "colab": {
          "base_uri": "https://localhost:8080/"
        },
        "id": "Br8eRVh1d0uO",
        "outputId": "d7e6cc5f-b2bc-4a62-fece-6c00b262133e"
      },
      "outputs": [
        {
          "output_type": "execute_result",
          "data": {
            "text/plain": [
              "['t_name1',\n",
              " 't_name2',\n",
              " 't_dur1',\n",
              " 't_dur2',\n",
              " 't_dance1',\n",
              " 't_dance2',\n",
              " 't_energy1',\n",
              " 't_energy2',\n",
              " 't_key1',\n",
              " 't_key2',\n",
              " 't_mode1',\n",
              " 't_mode2',\n",
              " 't_speech1',\n",
              " 't_speech2',\n",
              " 't_acous1',\n",
              " 't_acous2',\n",
              " 't_ins1',\n",
              " 't_ins2',\n",
              " 't_live1',\n",
              " 't_live2',\n",
              " 't_val1',\n",
              " 't_val2',\n",
              " 't_tempo1',\n",
              " 't_tempo2',\n",
              " 't_sig1',\n",
              " 't_sig2']"
            ]
          },
          "metadata": {},
          "execution_count": 9
        }
      ],
      "source": [
        "columnas_drop"
      ]
    },
    {
      "cell_type": "code",
      "execution_count": 10,
      "metadata": {
        "colab": {
          "base_uri": "https://localhost:8080/"
        },
        "id": "U4Z5niMLlkpD",
        "outputId": "91038563-d45c-4f38-c8c5-2d0e63c45af0"
      },
      "outputs": [
        {
          "output_type": "stream",
          "name": "stdout",
          "text": [
            "<class 'pandas.core.frame.DataFrame'>\n",
            "Int64Index: 14410 entries, 0 to 21206\n",
            "Data columns (total 44 columns):\n",
            " #   Column        Non-Null Count  Dtype  \n",
            "---  ------        --------------  -----  \n",
            " 0   id            14410 non-null  int64  \n",
            " 1   name          14409 non-null  object \n",
            " 2   release_date  14410 non-null  object \n",
            " 3   artists       14410 non-null  object \n",
            " 4   total_tracks  14410 non-null  int64  \n",
            " 5   t_name0       14409 non-null  object \n",
            " 6   t_name1       14410 non-null  object \n",
            " 7   t_name2       14410 non-null  object \n",
            " 8   t_dur0        14410 non-null  int64  \n",
            " 9   t_dur1        14410 non-null  float64\n",
            " 10  t_dur2        14410 non-null  float64\n",
            " 11  t_dance0      14384 non-null  float64\n",
            " 12  t_dance1      14410 non-null  float64\n",
            " 13  t_dance2      14410 non-null  float64\n",
            " 14  t_energy0     14384 non-null  float64\n",
            " 15  t_energy1     14410 non-null  float64\n",
            " 16  t_energy2     14410 non-null  float64\n",
            " 17  t_key0        14384 non-null  float64\n",
            " 18  t_key1        14410 non-null  float64\n",
            " 19  t_key2        14410 non-null  float64\n",
            " 20  t_mode0       14384 non-null  float64\n",
            " 21  t_mode1       14410 non-null  float64\n",
            " 22  t_mode2       14410 non-null  float64\n",
            " 23  t_speech0     14384 non-null  float64\n",
            " 24  t_speech1     14410 non-null  float64\n",
            " 25  t_speech2     14410 non-null  float64\n",
            " 26  t_acous0      14384 non-null  float64\n",
            " 27  t_acous1      14410 non-null  float64\n",
            " 28  t_acous2      14410 non-null  float64\n",
            " 29  t_ins0        14384 non-null  float64\n",
            " 30  t_ins1        14410 non-null  float64\n",
            " 31  t_ins2        14410 non-null  float64\n",
            " 32  t_live0       14384 non-null  float64\n",
            " 33  t_live1       14410 non-null  float64\n",
            " 34  t_live2       14410 non-null  float64\n",
            " 35  t_val0        14384 non-null  float64\n",
            " 36  t_val1        14410 non-null  float64\n",
            " 37  t_val2        14410 non-null  float64\n",
            " 38  t_tempo0      14384 non-null  float64\n",
            " 39  t_tempo1      14410 non-null  float64\n",
            " 40  t_tempo2      14410 non-null  float64\n",
            " 41  t_sig0        14384 non-null  float64\n",
            " 42  t_sig1        14410 non-null  float64\n",
            " 43  t_sig2        14410 non-null  float64\n",
            "dtypes: float64(35), int64(3), object(6)\n",
            "memory usage: 4.9+ MB\n"
          ]
        }
      ],
      "source": [
        "#eliminamos las filas que contienen datos faltantes \n",
        "df1 = df.dropna(subset=columnas_drop)\n",
        "df1.info()"
      ]
    },
    {
      "cell_type": "markdown",
      "metadata": {
        "id": "upPtwqmyqFLV"
      },
      "source": [
        "Seguimos teniendo un Data Frame bastante extenso, por lo que ahora se mirará las columnas con datos fatltantes que quedan"
      ]
    },
    {
      "cell_type": "code",
      "execution_count": 11,
      "metadata": {
        "colab": {
          "base_uri": "https://localhost:8080/"
        },
        "id": "bQIJ2f54qEFZ",
        "outputId": "770a8ab5-0c66-4400-f58a-8ffb8a7552b4"
      },
      "outputs": [
        {
          "output_type": "execute_result",
          "data": {
            "text/plain": [
              "id               0\n",
              "name             1\n",
              "release_date     0\n",
              "artists          0\n",
              "total_tracks     0\n",
              "t_name0          1\n",
              "t_name1          0\n",
              "t_name2          0\n",
              "t_dur0           0\n",
              "t_dur1           0\n",
              "t_dur2           0\n",
              "t_dance0        26\n",
              "t_dance1         0\n",
              "t_dance2         0\n",
              "t_energy0       26\n",
              "t_energy1        0\n",
              "t_energy2        0\n",
              "t_key0          26\n",
              "t_key1           0\n",
              "t_key2           0\n",
              "t_mode0         26\n",
              "t_mode1          0\n",
              "t_mode2          0\n",
              "t_speech0       26\n",
              "t_speech1        0\n",
              "t_speech2        0\n",
              "t_acous0        26\n",
              "t_acous1         0\n",
              "t_acous2         0\n",
              "t_ins0          26\n",
              "t_ins1           0\n",
              "t_ins2           0\n",
              "t_live0         26\n",
              "t_live1          0\n",
              "t_live2          0\n",
              "t_val0          26\n",
              "t_val1           0\n",
              "t_val2           0\n",
              "t_tempo0        26\n",
              "t_tempo1         0\n",
              "t_tempo2         0\n",
              "t_sig0          26\n",
              "t_sig1           0\n",
              "t_sig2           0\n",
              "dtype: int64"
            ]
          },
          "metadata": {},
          "execution_count": 11
        }
      ],
      "source": [
        "df1.isnull().sum()"
      ]
    },
    {
      "cell_type": "markdown",
      "metadata": {
        "id": "LuFw7jzGqqq6"
      },
      "source": [
        "En este caso imputaremos el valor promedio entre las características de las canciones posteriores (1,2)"
      ]
    },
    {
      "cell_type": "code",
      "execution_count": 12,
      "metadata": {
        "colab": {
          "base_uri": "https://localhost:8080/",
          "height": 384
        },
        "id": "MpvP9ebC-ouR",
        "outputId": "2dd0d5bc-9555-4fbc-cc51-5306c7d989b0"
      },
      "outputs": [
        {
          "output_type": "execute_result",
          "data": {
            "text/plain": [
              "       id                    name release_date                     artists  \\\n",
              "0  160000             Vizlaxy One   2021-08-24               The Vizlaxy,    \n",
              "2  160002            Ocean Avenue   2003-01-01                Yellowcard,    \n",
              "3  160003  Bloomsday (Remastered)   2018-02-16                      Esbe,    \n",
              "5  160005           epd 2004-2007   2020-04-12           stomach patrol.,    \n",
              "7  160007            Thanks Again   2021-08-20  Smoke DZA, 183rd, Nym Lo,    \n",
              "\n",
              "   total_tracks             t_name0                           t_name1  \\\n",
              "0            11                Ciko                             Kumne   \n",
              "2            13            Way Away                         Breathing   \n",
              "3            19  Float - Remastered  Fulfill / The Dream - Remastered   \n",
              "5             6        experimusium                             星に願う。   \n",
              "7            12                 365                        Chin Music   \n",
              "\n",
              "                   t_name2  t_dur0    t_dur1  ...  t_live2  t_val0  t_val1  \\\n",
              "0                  Pod Sem   34901   33343.0  ...   0.0785  0.0397  0.0381   \n",
              "2             Ocean Avenue  202093  218706.0  ...   0.0947  0.3640  0.5700   \n",
              "3  Wanderlust - Remastered  182783  416000.0  ...   0.2600  0.4560  0.1070   \n",
              "5                 dearest.   57000  192000.0  ...   0.0803  0.2790  0.8380   \n",
              "7                    60/40  107755  120058.0  ...   0.1880  0.6080  0.4860   \n",
              "\n",
              "   t_val2  t_tempo0  t_tempo1  t_tempo2  t_sig0  t_sig1  t_sig2  \n",
              "0  0.0374    89.674    84.987   122.585     3.0     4.0     4.0  \n",
              "2  0.7860   179.644   179.581   173.734     4.0     4.0     4.0  \n",
              "3  0.5830   194.107    89.533   134.016     3.0     4.0     4.0  \n",
              "5  0.9810   117.984   144.973   139.976     4.0     4.0     4.0  \n",
              "7  0.7000    78.704   116.002    71.992     4.0     4.0     3.0  \n",
              "\n",
              "[5 rows x 44 columns]"
            ],
            "text/html": [
              "\n",
              "  <div id=\"df-6c93bc5f-7626-4812-b7d4-592c423b54e4\">\n",
              "    <div class=\"colab-df-container\">\n",
              "      <div>\n",
              "<style scoped>\n",
              "    .dataframe tbody tr th:only-of-type {\n",
              "        vertical-align: middle;\n",
              "    }\n",
              "\n",
              "    .dataframe tbody tr th {\n",
              "        vertical-align: top;\n",
              "    }\n",
              "\n",
              "    .dataframe thead th {\n",
              "        text-align: right;\n",
              "    }\n",
              "</style>\n",
              "<table border=\"1\" class=\"dataframe\">\n",
              "  <thead>\n",
              "    <tr style=\"text-align: right;\">\n",
              "      <th></th>\n",
              "      <th>id</th>\n",
              "      <th>name</th>\n",
              "      <th>release_date</th>\n",
              "      <th>artists</th>\n",
              "      <th>total_tracks</th>\n",
              "      <th>t_name0</th>\n",
              "      <th>t_name1</th>\n",
              "      <th>t_name2</th>\n",
              "      <th>t_dur0</th>\n",
              "      <th>t_dur1</th>\n",
              "      <th>...</th>\n",
              "      <th>t_live2</th>\n",
              "      <th>t_val0</th>\n",
              "      <th>t_val1</th>\n",
              "      <th>t_val2</th>\n",
              "      <th>t_tempo0</th>\n",
              "      <th>t_tempo1</th>\n",
              "      <th>t_tempo2</th>\n",
              "      <th>t_sig0</th>\n",
              "      <th>t_sig1</th>\n",
              "      <th>t_sig2</th>\n",
              "    </tr>\n",
              "  </thead>\n",
              "  <tbody>\n",
              "    <tr>\n",
              "      <th>0</th>\n",
              "      <td>160000</td>\n",
              "      <td>Vizlaxy One</td>\n",
              "      <td>2021-08-24</td>\n",
              "      <td>The Vizlaxy,</td>\n",
              "      <td>11</td>\n",
              "      <td>Ciko</td>\n",
              "      <td>Kumne</td>\n",
              "      <td>Pod Sem</td>\n",
              "      <td>34901</td>\n",
              "      <td>33343.0</td>\n",
              "      <td>...</td>\n",
              "      <td>0.0785</td>\n",
              "      <td>0.0397</td>\n",
              "      <td>0.0381</td>\n",
              "      <td>0.0374</td>\n",
              "      <td>89.674</td>\n",
              "      <td>84.987</td>\n",
              "      <td>122.585</td>\n",
              "      <td>3.0</td>\n",
              "      <td>4.0</td>\n",
              "      <td>4.0</td>\n",
              "    </tr>\n",
              "    <tr>\n",
              "      <th>2</th>\n",
              "      <td>160002</td>\n",
              "      <td>Ocean Avenue</td>\n",
              "      <td>2003-01-01</td>\n",
              "      <td>Yellowcard,</td>\n",
              "      <td>13</td>\n",
              "      <td>Way Away</td>\n",
              "      <td>Breathing</td>\n",
              "      <td>Ocean Avenue</td>\n",
              "      <td>202093</td>\n",
              "      <td>218706.0</td>\n",
              "      <td>...</td>\n",
              "      <td>0.0947</td>\n",
              "      <td>0.3640</td>\n",
              "      <td>0.5700</td>\n",
              "      <td>0.7860</td>\n",
              "      <td>179.644</td>\n",
              "      <td>179.581</td>\n",
              "      <td>173.734</td>\n",
              "      <td>4.0</td>\n",
              "      <td>4.0</td>\n",
              "      <td>4.0</td>\n",
              "    </tr>\n",
              "    <tr>\n",
              "      <th>3</th>\n",
              "      <td>160003</td>\n",
              "      <td>Bloomsday (Remastered)</td>\n",
              "      <td>2018-02-16</td>\n",
              "      <td>Esbe,</td>\n",
              "      <td>19</td>\n",
              "      <td>Float - Remastered</td>\n",
              "      <td>Fulfill / The Dream - Remastered</td>\n",
              "      <td>Wanderlust - Remastered</td>\n",
              "      <td>182783</td>\n",
              "      <td>416000.0</td>\n",
              "      <td>...</td>\n",
              "      <td>0.2600</td>\n",
              "      <td>0.4560</td>\n",
              "      <td>0.1070</td>\n",
              "      <td>0.5830</td>\n",
              "      <td>194.107</td>\n",
              "      <td>89.533</td>\n",
              "      <td>134.016</td>\n",
              "      <td>3.0</td>\n",
              "      <td>4.0</td>\n",
              "      <td>4.0</td>\n",
              "    </tr>\n",
              "    <tr>\n",
              "      <th>5</th>\n",
              "      <td>160005</td>\n",
              "      <td>epd 2004-2007</td>\n",
              "      <td>2020-04-12</td>\n",
              "      <td>stomach patrol.,</td>\n",
              "      <td>6</td>\n",
              "      <td>experimusium</td>\n",
              "      <td>星に願う。</td>\n",
              "      <td>dearest.</td>\n",
              "      <td>57000</td>\n",
              "      <td>192000.0</td>\n",
              "      <td>...</td>\n",
              "      <td>0.0803</td>\n",
              "      <td>0.2790</td>\n",
              "      <td>0.8380</td>\n",
              "      <td>0.9810</td>\n",
              "      <td>117.984</td>\n",
              "      <td>144.973</td>\n",
              "      <td>139.976</td>\n",
              "      <td>4.0</td>\n",
              "      <td>4.0</td>\n",
              "      <td>4.0</td>\n",
              "    </tr>\n",
              "    <tr>\n",
              "      <th>7</th>\n",
              "      <td>160007</td>\n",
              "      <td>Thanks Again</td>\n",
              "      <td>2021-08-20</td>\n",
              "      <td>Smoke DZA, 183rd, Nym Lo,</td>\n",
              "      <td>12</td>\n",
              "      <td>365</td>\n",
              "      <td>Chin Music</td>\n",
              "      <td>60/40</td>\n",
              "      <td>107755</td>\n",
              "      <td>120058.0</td>\n",
              "      <td>...</td>\n",
              "      <td>0.1880</td>\n",
              "      <td>0.6080</td>\n",
              "      <td>0.4860</td>\n",
              "      <td>0.7000</td>\n",
              "      <td>78.704</td>\n",
              "      <td>116.002</td>\n",
              "      <td>71.992</td>\n",
              "      <td>4.0</td>\n",
              "      <td>4.0</td>\n",
              "      <td>3.0</td>\n",
              "    </tr>\n",
              "  </tbody>\n",
              "</table>\n",
              "<p>5 rows × 44 columns</p>\n",
              "</div>\n",
              "      <button class=\"colab-df-convert\" onclick=\"convertToInteractive('df-6c93bc5f-7626-4812-b7d4-592c423b54e4')\"\n",
              "              title=\"Convert this dataframe to an interactive table.\"\n",
              "              style=\"display:none;\">\n",
              "        \n",
              "  <svg xmlns=\"http://www.w3.org/2000/svg\" height=\"24px\"viewBox=\"0 0 24 24\"\n",
              "       width=\"24px\">\n",
              "    <path d=\"M0 0h24v24H0V0z\" fill=\"none\"/>\n",
              "    <path d=\"M18.56 5.44l.94 2.06.94-2.06 2.06-.94-2.06-.94-.94-2.06-.94 2.06-2.06.94zm-11 1L8.5 8.5l.94-2.06 2.06-.94-2.06-.94L8.5 2.5l-.94 2.06-2.06.94zm10 10l.94 2.06.94-2.06 2.06-.94-2.06-.94-.94-2.06-.94 2.06-2.06.94z\"/><path d=\"M17.41 7.96l-1.37-1.37c-.4-.4-.92-.59-1.43-.59-.52 0-1.04.2-1.43.59L10.3 9.45l-7.72 7.72c-.78.78-.78 2.05 0 2.83L4 21.41c.39.39.9.59 1.41.59.51 0 1.02-.2 1.41-.59l7.78-7.78 2.81-2.81c.8-.78.8-2.07 0-2.86zM5.41 20L4 18.59l7.72-7.72 1.47 1.35L5.41 20z\"/>\n",
              "  </svg>\n",
              "      </button>\n",
              "      \n",
              "  <style>\n",
              "    .colab-df-container {\n",
              "      display:flex;\n",
              "      flex-wrap:wrap;\n",
              "      gap: 12px;\n",
              "    }\n",
              "\n",
              "    .colab-df-convert {\n",
              "      background-color: #E8F0FE;\n",
              "      border: none;\n",
              "      border-radius: 50%;\n",
              "      cursor: pointer;\n",
              "      display: none;\n",
              "      fill: #1967D2;\n",
              "      height: 32px;\n",
              "      padding: 0 0 0 0;\n",
              "      width: 32px;\n",
              "    }\n",
              "\n",
              "    .colab-df-convert:hover {\n",
              "      background-color: #E2EBFA;\n",
              "      box-shadow: 0px 1px 2px rgba(60, 64, 67, 0.3), 0px 1px 3px 1px rgba(60, 64, 67, 0.15);\n",
              "      fill: #174EA6;\n",
              "    }\n",
              "\n",
              "    [theme=dark] .colab-df-convert {\n",
              "      background-color: #3B4455;\n",
              "      fill: #D2E3FC;\n",
              "    }\n",
              "\n",
              "    [theme=dark] .colab-df-convert:hover {\n",
              "      background-color: #434B5C;\n",
              "      box-shadow: 0px 1px 3px 1px rgba(0, 0, 0, 0.15);\n",
              "      filter: drop-shadow(0px 1px 2px rgba(0, 0, 0, 0.3));\n",
              "      fill: #FFFFFF;\n",
              "    }\n",
              "  </style>\n",
              "\n",
              "      <script>\n",
              "        const buttonEl =\n",
              "          document.querySelector('#df-6c93bc5f-7626-4812-b7d4-592c423b54e4 button.colab-df-convert');\n",
              "        buttonEl.style.display =\n",
              "          google.colab.kernel.accessAllowed ? 'block' : 'none';\n",
              "\n",
              "        async function convertToInteractive(key) {\n",
              "          const element = document.querySelector('#df-6c93bc5f-7626-4812-b7d4-592c423b54e4');\n",
              "          const dataTable =\n",
              "            await google.colab.kernel.invokeFunction('convertToInteractive',\n",
              "                                                     [key], {});\n",
              "          if (!dataTable) return;\n",
              "\n",
              "          const docLinkHtml = 'Like what you see? Visit the ' +\n",
              "            '<a target=\"_blank\" href=https://colab.research.google.com/notebooks/data_table.ipynb>data table notebook</a>'\n",
              "            + ' to learn more about interactive tables.';\n",
              "          element.innerHTML = '';\n",
              "          dataTable['output_type'] = 'display_data';\n",
              "          await google.colab.output.renderOutput(dataTable, element);\n",
              "          const docLink = document.createElement('div');\n",
              "          docLink.innerHTML = docLinkHtml;\n",
              "          element.appendChild(docLink);\n",
              "        }\n",
              "      </script>\n",
              "    </div>\n",
              "  </div>\n",
              "  "
            ]
          },
          "metadata": {},
          "execution_count": 12
        }
      ],
      "source": [
        "df1.head()"
      ]
    },
    {
      "cell_type": "code",
      "execution_count": 13,
      "metadata": {
        "id": "TUl4wag1_dEt"
      },
      "outputs": [],
      "source": [
        "df1.reset_index(inplace=True, drop=True)"
      ]
    },
    {
      "cell_type": "code",
      "execution_count": 14,
      "metadata": {
        "colab": {
          "base_uri": "https://localhost:8080/"
        },
        "id": "q8073_KEz7pw",
        "outputId": "f03975ff-8bbf-4de2-e777-893567628ad9"
      },
      "outputs": [
        {
          "output_type": "execute_result",
          "data": {
            "text/plain": [
              "0.824"
            ]
          },
          "metadata": {},
          "execution_count": 14
        }
      ],
      "source": [
        "df1['t_dance0'][590]"
      ]
    },
    {
      "cell_type": "code",
      "execution_count": 15,
      "metadata": {
        "id": "ZN0ifc4FsfVl"
      },
      "outputs": [],
      "source": [
        "#convertimos en lista los valores de la columnas 1 y 2 de la respectiva cancion\n",
        "lista_td1 = list(df1['t_dance1'])\n",
        "lista_td2 = list(df1['t_dance2'])"
      ]
    },
    {
      "cell_type": "code",
      "execution_count": 16,
      "metadata": {
        "colab": {
          "base_uri": "https://localhost:8080/"
        },
        "id": "x9ymMlB7qpkM",
        "outputId": "5923a702-51e8-4dc0-b2e8-ee7075381c5c"
      },
      "outputs": [
        {
          "output_type": "stream",
          "name": "stdout",
          "text": [
            "360\n",
            "0.621\n",
            "0.664\n",
            "1190\n",
            "0.475\n",
            "0.56\n",
            "1583\n",
            "0.621\n",
            "0.664\n",
            "3628\n",
            "0.56\n",
            "0.478\n",
            "4251\n",
            "0.475\n",
            "0.56\n",
            "5032\n",
            "0.373\n",
            "0.792\n",
            "5460\n",
            "0.475\n",
            "0.56\n",
            "6386\n",
            "0.475\n",
            "0.56\n",
            "6789\n",
            "0.475\n",
            "0.56\n",
            "7177\n",
            "0.373\n",
            "0.792\n",
            "7783\n",
            "0.621\n",
            "0.664\n",
            "8066\n",
            "0.475\n",
            "0.56\n",
            "8683\n",
            "0.475\n",
            "0.56\n",
            "9335\n",
            "0.475\n",
            "0.56\n",
            "9471\n",
            "0.621\n",
            "0.664\n",
            "9533\n",
            "0.708\n",
            "0.649\n",
            "9602\n",
            "0.475\n",
            "0.56\n",
            "9789\n",
            "0.475\n",
            "0.56\n",
            "10727\n",
            "0.475\n",
            "0.56\n",
            "11412\n",
            "0.475\n",
            "0.56\n",
            "12166\n",
            "0.475\n",
            "0.56\n",
            "12392\n",
            "0.475\n",
            "0.56\n",
            "13455\n",
            "0.621\n",
            "0.664\n",
            "13548\n",
            "0.621\n",
            "0.664\n",
            "13647\n",
            "0.621\n",
            "0.664\n",
            "14109\n",
            "0.373\n",
            "0.792\n"
          ]
        },
        {
          "output_type": "stream",
          "name": "stderr",
          "text": [
            "/usr/local/lib/python3.7/dist-packages/ipykernel_launcher.py:9: SettingWithCopyWarning: \n",
            "A value is trying to be set on a copy of a slice from a DataFrame\n",
            "\n",
            "See the caveats in the documentation: https://pandas.pydata.org/pandas-docs/stable/user_guide/indexing.html#returning-a-view-versus-a-copy\n",
            "  if __name__ == '__main__':\n"
          ]
        }
      ],
      "source": [
        "#reemplazamos los valores por el promedio de las caracteristicas propias de las canciones de cada album\n",
        "df1 = df1.fillna(-1)\n",
        "lista_td = list(df1['t_dance0'])\n",
        "for i in range ((len(lista_td))):\n",
        "  if (lista_td[i] == -1): \n",
        "    print(i)\n",
        "    print(lista_td1[i])\n",
        "    print(lista_td2[i])\n",
        "    df1['t_dance0'][i] = ((lista_td1[i]+lista_td2[i])/2)\n",
        "  \n"
      ]
    },
    {
      "cell_type": "code",
      "execution_count": 17,
      "metadata": {
        "colab": {
          "base_uri": "https://localhost:8080/"
        },
        "id": "_NA239bv9_Jv",
        "outputId": "6fc29ec0-0410-4df0-a8e6-d20a4bca7b5f"
      },
      "outputs": [
        {
          "output_type": "execute_result",
          "data": {
            "text/plain": [
              "(14410, 44)"
            ]
          },
          "metadata": {},
          "execution_count": 17
        }
      ],
      "source": [
        "df1.shape"
      ]
    },
    {
      "cell_type": "code",
      "execution_count": 18,
      "metadata": {
        "colab": {
          "base_uri": "https://localhost:8080/"
        },
        "id": "WPRM1s6Z9Q5K",
        "outputId": "5064bf97-cdfc-4238-bb62-e7e542298369"
      },
      "outputs": [
        {
          "output_type": "execute_result",
          "data": {
            "text/plain": [
              "0.824"
            ]
          },
          "metadata": {},
          "execution_count": 18
        }
      ],
      "source": [
        "df1['t_dance0'][590]"
      ]
    },
    {
      "cell_type": "markdown",
      "metadata": {
        "id": "548ocgy0AIDW"
      },
      "source": [
        "Realizamos el mismo proceso con las otras columnas "
      ]
    },
    {
      "cell_type": "markdown",
      "metadata": {
        "id": "kLmLPVqSAK76"
      },
      "source": [
        "t_energy"
      ]
    },
    {
      "cell_type": "code",
      "execution_count": 19,
      "metadata": {
        "colab": {
          "base_uri": "https://localhost:8080/"
        },
        "id": "eewzjzUu5Sbb",
        "outputId": "aafcd513-b299-4b7c-abe4-cfe745326f58"
      },
      "outputs": [
        {
          "output_type": "stream",
          "name": "stderr",
          "text": [
            "/usr/local/lib/python3.7/dist-packages/ipykernel_launcher.py:8: SettingWithCopyWarning: \n",
            "A value is trying to be set on a copy of a slice from a DataFrame\n",
            "\n",
            "See the caveats in the documentation: https://pandas.pydata.org/pandas-docs/stable/user_guide/indexing.html#returning-a-view-versus-a-copy\n",
            "  \n"
          ]
        }
      ],
      "source": [
        "#convertimos en lista los valores de la columnas 1 y 2 de la respectiva cancion\n",
        "lista_te1 = list(df1['t_energy1'])\n",
        "lista_te2 = list(df1['t_energy2'])\n",
        "\n",
        "lista_te = list(df1['t_energy0'])\n",
        "for i in range ((len(lista_te))):\n",
        "  if (lista_te[i] == -1): \n",
        "    df1['t_energy0'][i] = ((lista_te1[i]+lista_te2[i])/2)\n",
        "  \n"
      ]
    },
    {
      "cell_type": "markdown",
      "metadata": {
        "id": "niAMk0tuA68J"
      },
      "source": [
        "t_key"
      ]
    },
    {
      "cell_type": "code",
      "execution_count": 20,
      "metadata": {
        "colab": {
          "base_uri": "https://localhost:8080/"
        },
        "id": "2xIZlBJhA-Os",
        "outputId": "336155ba-b07e-4240-b2d6-f8aca0599cf6"
      },
      "outputs": [
        {
          "output_type": "stream",
          "name": "stderr",
          "text": [
            "/usr/local/lib/python3.7/dist-packages/ipykernel_launcher.py:7: SettingWithCopyWarning: \n",
            "A value is trying to be set on a copy of a slice from a DataFrame\n",
            "\n",
            "See the caveats in the documentation: https://pandas.pydata.org/pandas-docs/stable/user_guide/indexing.html#returning-a-view-versus-a-copy\n",
            "  import sys\n"
          ]
        }
      ],
      "source": [
        "lista_tk1 = list(df1['t_key1'])\n",
        "lista_tk2 = list(df1['t_key2'])\n",
        "lista_tk = list(df1['t_key0'])\n",
        "\n",
        "for i in range ((len(lista_tk))):\n",
        "  if (lista_tk[i] == -1): \n",
        "    df1['t_key0'][i] = ((lista_tk1[i]+lista_tk2[i])/2)\n"
      ]
    },
    {
      "cell_type": "markdown",
      "metadata": {
        "id": "AIquGItZCHGs"
      },
      "source": [
        "t_mode"
      ]
    },
    {
      "cell_type": "code",
      "execution_count": 21,
      "metadata": {
        "colab": {
          "base_uri": "https://localhost:8080/"
        },
        "id": "_yDISv3gCEtr",
        "outputId": "062eaa04-9099-4c39-b3f4-a496f3c639af"
      },
      "outputs": [
        {
          "output_type": "stream",
          "name": "stderr",
          "text": [
            "/usr/local/lib/python3.7/dist-packages/ipykernel_launcher.py:7: SettingWithCopyWarning: \n",
            "A value is trying to be set on a copy of a slice from a DataFrame\n",
            "\n",
            "See the caveats in the documentation: https://pandas.pydata.org/pandas-docs/stable/user_guide/indexing.html#returning-a-view-versus-a-copy\n",
            "  import sys\n"
          ]
        }
      ],
      "source": [
        "lista_tm1 = list(df1['t_mode1'])\n",
        "lista_tm2 = list(df1['t_mode2'])\n",
        "lista_tm = list(df1['t_mode0'])\n",
        "\n",
        "for i in range ((len(lista_tm))):\n",
        "  if (lista_tm[i] == -1): \n",
        "    df1['t_mode0'][i] = ((lista_tm1[i]+lista_tm2[i])/2)\n"
      ]
    },
    {
      "cell_type": "markdown",
      "metadata": {
        "id": "-PBQND94CqRB"
      },
      "source": [
        "t_speech"
      ]
    },
    {
      "cell_type": "code",
      "execution_count": 22,
      "metadata": {
        "colab": {
          "base_uri": "https://localhost:8080/"
        },
        "id": "3KSDENruCX2d",
        "outputId": "d0abb0a1-b22c-4a83-f4b3-0e811ed4ee12"
      },
      "outputs": [
        {
          "output_type": "stream",
          "name": "stderr",
          "text": [
            "/usr/local/lib/python3.7/dist-packages/ipykernel_launcher.py:7: SettingWithCopyWarning: \n",
            "A value is trying to be set on a copy of a slice from a DataFrame\n",
            "\n",
            "See the caveats in the documentation: https://pandas.pydata.org/pandas-docs/stable/user_guide/indexing.html#returning-a-view-versus-a-copy\n",
            "  import sys\n"
          ]
        }
      ],
      "source": [
        "lista_ts1 = list(df1['t_speech1'])\n",
        "lista_ts2 = list(df1['t_speech2'])\n",
        "lista_ts = list(df1['t_speech0'])\n",
        "\n",
        "for i in range ((len(lista_ts))):\n",
        "  if (lista_ts[i] == -1): \n",
        "    df1['t_speech0'][i] = ((lista_ts1[i]+lista_ts2[i])/2)\n",
        "  "
      ]
    },
    {
      "cell_type": "markdown",
      "metadata": {
        "id": "3Dbh9PnPDJze"
      },
      "source": [
        "t_acous"
      ]
    },
    {
      "cell_type": "code",
      "execution_count": 23,
      "metadata": {
        "colab": {
          "base_uri": "https://localhost:8080/"
        },
        "id": "f2igYEtuDIH1",
        "outputId": "45d2ba16-5269-4102-db1c-bc93ef020fe5"
      },
      "outputs": [
        {
          "output_type": "stream",
          "name": "stderr",
          "text": [
            "/usr/local/lib/python3.7/dist-packages/ipykernel_launcher.py:7: SettingWithCopyWarning: \n",
            "A value is trying to be set on a copy of a slice from a DataFrame\n",
            "\n",
            "See the caveats in the documentation: https://pandas.pydata.org/pandas-docs/stable/user_guide/indexing.html#returning-a-view-versus-a-copy\n",
            "  import sys\n"
          ]
        }
      ],
      "source": [
        "lista_ta1 = list(df1['t_acous1'])\n",
        "lista_ta2 = list(df1['t_acous2'])\n",
        "lista_ta = list(df1['t_acous0'])\n",
        "\n",
        "for i in range ((len(lista_ta))):\n",
        "  if (lista_ta[i] == -1): \n",
        "    df1['t_acous0'][i] = ((lista_ta1[i]+lista_ta2[i])/2)\n",
        "    "
      ]
    },
    {
      "cell_type": "markdown",
      "metadata": {
        "id": "mSx6FqjHDguk"
      },
      "source": [
        "t_ins"
      ]
    },
    {
      "cell_type": "code",
      "execution_count": 24,
      "metadata": {
        "colab": {
          "base_uri": "https://localhost:8080/"
        },
        "id": "42NUgX1ADgTv",
        "outputId": "4e46e064-43a3-4712-8c9d-c9e97dc78529"
      },
      "outputs": [
        {
          "output_type": "stream",
          "name": "stderr",
          "text": [
            "/usr/local/lib/python3.7/dist-packages/ipykernel_launcher.py:7: SettingWithCopyWarning: \n",
            "A value is trying to be set on a copy of a slice from a DataFrame\n",
            "\n",
            "See the caveats in the documentation: https://pandas.pydata.org/pandas-docs/stable/user_guide/indexing.html#returning-a-view-versus-a-copy\n",
            "  import sys\n"
          ]
        }
      ],
      "source": [
        "lista_ti1 = list(df1['t_ins1'])\n",
        "lista_ti2 = list(df1['t_ins2'])\n",
        "lista_ti = list(df1['t_ins0'])\n",
        "\n",
        "for i in range ((len(lista_ti))):\n",
        "  if (lista_ti[i] == -1): \n",
        "    df1['t_ins0'][i] = ((lista_ti1[i]+lista_ti2[i])/2)\n",
        "\n",
        "    "
      ]
    },
    {
      "cell_type": "markdown",
      "metadata": {
        "id": "pEppov34D1Wk"
      },
      "source": [
        "t_live "
      ]
    },
    {
      "cell_type": "code",
      "execution_count": 25,
      "metadata": {
        "colab": {
          "base_uri": "https://localhost:8080/"
        },
        "id": "llr_xTHoD0bN",
        "outputId": "2abc81c4-87ba-4831-d7a1-dc83375bab68"
      },
      "outputs": [
        {
          "output_type": "stream",
          "name": "stderr",
          "text": [
            "/usr/local/lib/python3.7/dist-packages/ipykernel_launcher.py:7: SettingWithCopyWarning: \n",
            "A value is trying to be set on a copy of a slice from a DataFrame\n",
            "\n",
            "See the caveats in the documentation: https://pandas.pydata.org/pandas-docs/stable/user_guide/indexing.html#returning-a-view-versus-a-copy\n",
            "  import sys\n"
          ]
        }
      ],
      "source": [
        "lista_tl1 = list(df1['t_live1'])\n",
        "lista_tl2 = list(df1['t_live2'])\n",
        "lista_tl = list(df1['t_live0'])\n",
        "\n",
        "for i in range ((len(lista_tl))):\n",
        "  if (lista_tl[i] == -1): \n",
        "    df1['t_live0'][i] = ((lista_tl1[i]+lista_tl2[i])/2)\n",
        "    "
      ]
    },
    {
      "cell_type": "markdown",
      "metadata": {
        "id": "0Gj3bJ6VEIhZ"
      },
      "source": [
        "t_val"
      ]
    },
    {
      "cell_type": "code",
      "execution_count": 26,
      "metadata": {
        "colab": {
          "base_uri": "https://localhost:8080/"
        },
        "id": "47uVoo_eEMC0",
        "outputId": "57f5ca0a-9dd7-4f60-b1d7-ff80b12ce24d"
      },
      "outputs": [
        {
          "output_type": "stream",
          "name": "stderr",
          "text": [
            "/usr/local/lib/python3.7/dist-packages/ipykernel_launcher.py:7: SettingWithCopyWarning: \n",
            "A value is trying to be set on a copy of a slice from a DataFrame\n",
            "\n",
            "See the caveats in the documentation: https://pandas.pydata.org/pandas-docs/stable/user_guide/indexing.html#returning-a-view-versus-a-copy\n",
            "  import sys\n"
          ]
        }
      ],
      "source": [
        "lista_tv1 = list(df1['t_val1'])\n",
        "lista_tv2 = list(df1['t_val2'])\n",
        "lista_tv = list(df1['t_val0'])\n",
        "\n",
        "for i in range ((len(lista_tv))):\n",
        "  if (lista_tv[i] == -1): \n",
        "    df1['t_val0'][i] = ((lista_tv1[i]+lista_tv2[i])/2)\n",
        "    "
      ]
    },
    {
      "cell_type": "markdown",
      "metadata": {
        "id": "sSWCWuFKEblN"
      },
      "source": [
        "t_tempo"
      ]
    },
    {
      "cell_type": "code",
      "execution_count": 27,
      "metadata": {
        "colab": {
          "base_uri": "https://localhost:8080/"
        },
        "id": "AzC4G1_mEa0m",
        "outputId": "43f73fc2-688c-4c8c-f5f3-19fb24e46689"
      },
      "outputs": [
        {
          "output_type": "stream",
          "name": "stderr",
          "text": [
            "/usr/local/lib/python3.7/dist-packages/ipykernel_launcher.py:7: SettingWithCopyWarning: \n",
            "A value is trying to be set on a copy of a slice from a DataFrame\n",
            "\n",
            "See the caveats in the documentation: https://pandas.pydata.org/pandas-docs/stable/user_guide/indexing.html#returning-a-view-versus-a-copy\n",
            "  import sys\n"
          ]
        }
      ],
      "source": [
        "lista_tt1 = list(df1['t_tempo1'])\n",
        "lista_tt2 = list(df1['t_tempo2'])\n",
        "lista_tt = list(df1['t_tempo0'])\n",
        "\n",
        "for i in range ((len(lista_tt))):\n",
        "  if (lista_tt[i] == -1): \n",
        "    df1['t_tempo0'][i] = ((lista_tt1[i]+lista_tt2[i])/2)\n",
        "    "
      ]
    },
    {
      "cell_type": "markdown",
      "metadata": {
        "id": "L3PQFI8TEqSK"
      },
      "source": [
        "t_sig"
      ]
    },
    {
      "cell_type": "code",
      "execution_count": 28,
      "metadata": {
        "colab": {
          "base_uri": "https://localhost:8080/"
        },
        "id": "Yx6l8SciEp2u",
        "outputId": "f5109162-41f0-4ec0-c947-e0cc0ef964fb"
      },
      "outputs": [
        {
          "output_type": "stream",
          "name": "stderr",
          "text": [
            "/usr/local/lib/python3.7/dist-packages/ipykernel_launcher.py:7: SettingWithCopyWarning: \n",
            "A value is trying to be set on a copy of a slice from a DataFrame\n",
            "\n",
            "See the caveats in the documentation: https://pandas.pydata.org/pandas-docs/stable/user_guide/indexing.html#returning-a-view-versus-a-copy\n",
            "  import sys\n"
          ]
        }
      ],
      "source": [
        "lista_tsi1 = list(df1['t_sig1'])\n",
        "lista_tsi2 = list(df1['t_sig2'])\n",
        "lista_tsi = list(df1['t_sig0'])\n",
        "\n",
        "for i in range ((len(lista_tsi))):\n",
        "  if (lista_tsi[i] == -1): \n",
        "    df1['t_sig0'][i] = ((lista_tsi1[i]+lista_tsi2[i])/2)\n",
        "    "
      ]
    },
    {
      "cell_type": "code",
      "execution_count": 29,
      "metadata": {
        "colab": {
          "base_uri": "https://localhost:8080/"
        },
        "id": "U9C7TCtdFEao",
        "outputId": "47ecef55-014e-4fd2-8ec0-088d204ce06a"
      },
      "outputs": [
        {
          "output_type": "execute_result",
          "data": {
            "text/plain": [
              "id              0\n",
              "name            0\n",
              "release_date    0\n",
              "artists         0\n",
              "total_tracks    0\n",
              "t_name0         0\n",
              "t_name1         0\n",
              "t_name2         0\n",
              "t_dur0          0\n",
              "t_dur1          0\n",
              "t_dur2          0\n",
              "t_dance0        0\n",
              "t_dance1        0\n",
              "t_dance2        0\n",
              "t_energy0       0\n",
              "t_energy1       0\n",
              "t_energy2       0\n",
              "t_key0          0\n",
              "t_key1          0\n",
              "t_key2          0\n",
              "t_mode0         0\n",
              "t_mode1         0\n",
              "t_mode2         0\n",
              "t_speech0       0\n",
              "t_speech1       0\n",
              "t_speech2       0\n",
              "t_acous0        0\n",
              "t_acous1        0\n",
              "t_acous2        0\n",
              "t_ins0          0\n",
              "t_ins1          0\n",
              "t_ins2          0\n",
              "t_live0         0\n",
              "t_live1         0\n",
              "t_live2         0\n",
              "t_val0          0\n",
              "t_val1          0\n",
              "t_val2          0\n",
              "t_tempo0        0\n",
              "t_tempo1        0\n",
              "t_tempo2        0\n",
              "t_sig0          0\n",
              "t_sig1          0\n",
              "t_sig2          0\n",
              "dtype: int64"
            ]
          },
          "metadata": {},
          "execution_count": 29
        }
      ],
      "source": [
        "df1.isnull().sum()"
      ]
    },
    {
      "cell_type": "code",
      "execution_count": 30,
      "metadata": {
        "colab": {
          "base_uri": "https://localhost:8080/",
          "height": 393
        },
        "id": "YaoUWsKPPuHR",
        "outputId": "7fd76f80-4b18-4147-87e7-b0565262c450"
      },
      "outputs": [
        {
          "output_type": "execute_result",
          "data": {
            "text/plain": [
              "                  id  total_tracks        t_dur0        t_dur1        t_dur2  \\\n",
              "count   14410.000000  14410.000000  1.441000e+04  1.441000e+04  1.441000e+04   \n",
              "mean   170580.627134     15.898543  2.019937e+05  2.127128e+05  2.133645e+05   \n",
              "std      6108.815450     27.835123  1.122413e+05  9.630538e+04  9.150560e+04   \n",
              "min    160000.000000      3.000000  4.186000e+03  6.653000e+03  2.113000e+03   \n",
              "25%    165307.250000     10.000000  1.495835e+05  1.700162e+05  1.695505e+05   \n",
              "50%    170580.500000     13.000000  1.972530e+05  2.041800e+05  2.063460e+05   \n",
              "75%    175870.750000     16.000000  2.423462e+05  2.437270e+05  2.446510e+05   \n",
              "max    181206.000000    930.000000  3.664274e+06  5.625939e+06  3.369482e+06   \n",
              "\n",
              "           t_dance0      t_dance1      t_dance2     t_energy0     t_energy1  \\\n",
              "count  14410.000000  14410.000000  14410.000000  14410.000000  14410.000000   \n",
              "mean       0.576012      0.606250      0.607187      0.607745      0.631896   \n",
              "std        0.184204      0.177848      0.179559      0.244068      0.231337   \n",
              "min        0.000000      0.000000      0.000000      0.000000      0.000020   \n",
              "25%        0.458000      0.495000      0.499000      0.452000      0.494000   \n",
              "50%        0.595000      0.629000      0.625000      0.635000      0.663000   \n",
              "75%        0.713000      0.734000      0.740000      0.808000      0.813000   \n",
              "max        0.980000      0.980000      0.985000      1.000000      1.000000   \n",
              "\n",
              "       ...       t_live2        t_val0        t_val1        t_val2  \\\n",
              "count  ...  14410.000000  14410.000000  14410.000000  14410.000000   \n",
              "mean   ...      0.189540      0.459777      0.492383      0.484115   \n",
              "std    ...      0.153222      0.263016      0.252071      0.254818   \n",
              "min    ...      0.000000      0.000000      0.000000      0.000000   \n",
              "25%    ...      0.097800      0.242000      0.292000      0.284000   \n",
              "50%    ...      0.126000      0.450000      0.496000      0.478000   \n",
              "75%    ...      0.236000      0.665000      0.691750      0.683000   \n",
              "max    ...      0.991000      1.000000      0.990000      1.000000   \n",
              "\n",
              "           t_tempo0      t_tempo1      t_tempo2        t_sig0        t_sig1  \\\n",
              "count  14410.000000  14410.000000  14410.000000  14410.000000  14410.000000   \n",
              "mean     119.197417    121.041798    121.048549      3.874670      3.915198   \n",
              "std       31.953735     30.674660     30.855465      0.557827      0.417400   \n",
              "min        0.000000      0.000000      0.000000      0.000000      0.000000   \n",
              "25%       94.965000     96.073500     96.122250      4.000000      4.000000   \n",
              "50%      119.852000    120.015000    120.034000      4.000000      4.000000   \n",
              "75%      140.026000    140.991000    141.780750      4.000000      4.000000   \n",
              "max      220.357000    220.030000    219.967000      5.000000      5.000000   \n",
              "\n",
              "             t_sig2  \n",
              "count  14410.000000  \n",
              "mean       3.901596  \n",
              "std        0.457088  \n",
              "min        0.000000  \n",
              "25%        4.000000  \n",
              "50%        4.000000  \n",
              "75%        4.000000  \n",
              "max        5.000000  \n",
              "\n",
              "[8 rows x 38 columns]"
            ],
            "text/html": [
              "\n",
              "  <div id=\"df-6215e70b-a93f-4428-8bfe-24a54cf84439\">\n",
              "    <div class=\"colab-df-container\">\n",
              "      <div>\n",
              "<style scoped>\n",
              "    .dataframe tbody tr th:only-of-type {\n",
              "        vertical-align: middle;\n",
              "    }\n",
              "\n",
              "    .dataframe tbody tr th {\n",
              "        vertical-align: top;\n",
              "    }\n",
              "\n",
              "    .dataframe thead th {\n",
              "        text-align: right;\n",
              "    }\n",
              "</style>\n",
              "<table border=\"1\" class=\"dataframe\">\n",
              "  <thead>\n",
              "    <tr style=\"text-align: right;\">\n",
              "      <th></th>\n",
              "      <th>id</th>\n",
              "      <th>total_tracks</th>\n",
              "      <th>t_dur0</th>\n",
              "      <th>t_dur1</th>\n",
              "      <th>t_dur2</th>\n",
              "      <th>t_dance0</th>\n",
              "      <th>t_dance1</th>\n",
              "      <th>t_dance2</th>\n",
              "      <th>t_energy0</th>\n",
              "      <th>t_energy1</th>\n",
              "      <th>...</th>\n",
              "      <th>t_live2</th>\n",
              "      <th>t_val0</th>\n",
              "      <th>t_val1</th>\n",
              "      <th>t_val2</th>\n",
              "      <th>t_tempo0</th>\n",
              "      <th>t_tempo1</th>\n",
              "      <th>t_tempo2</th>\n",
              "      <th>t_sig0</th>\n",
              "      <th>t_sig1</th>\n",
              "      <th>t_sig2</th>\n",
              "    </tr>\n",
              "  </thead>\n",
              "  <tbody>\n",
              "    <tr>\n",
              "      <th>count</th>\n",
              "      <td>14410.000000</td>\n",
              "      <td>14410.000000</td>\n",
              "      <td>1.441000e+04</td>\n",
              "      <td>1.441000e+04</td>\n",
              "      <td>1.441000e+04</td>\n",
              "      <td>14410.000000</td>\n",
              "      <td>14410.000000</td>\n",
              "      <td>14410.000000</td>\n",
              "      <td>14410.000000</td>\n",
              "      <td>14410.000000</td>\n",
              "      <td>...</td>\n",
              "      <td>14410.000000</td>\n",
              "      <td>14410.000000</td>\n",
              "      <td>14410.000000</td>\n",
              "      <td>14410.000000</td>\n",
              "      <td>14410.000000</td>\n",
              "      <td>14410.000000</td>\n",
              "      <td>14410.000000</td>\n",
              "      <td>14410.000000</td>\n",
              "      <td>14410.000000</td>\n",
              "      <td>14410.000000</td>\n",
              "    </tr>\n",
              "    <tr>\n",
              "      <th>mean</th>\n",
              "      <td>170580.627134</td>\n",
              "      <td>15.898543</td>\n",
              "      <td>2.019937e+05</td>\n",
              "      <td>2.127128e+05</td>\n",
              "      <td>2.133645e+05</td>\n",
              "      <td>0.576012</td>\n",
              "      <td>0.606250</td>\n",
              "      <td>0.607187</td>\n",
              "      <td>0.607745</td>\n",
              "      <td>0.631896</td>\n",
              "      <td>...</td>\n",
              "      <td>0.189540</td>\n",
              "      <td>0.459777</td>\n",
              "      <td>0.492383</td>\n",
              "      <td>0.484115</td>\n",
              "      <td>119.197417</td>\n",
              "      <td>121.041798</td>\n",
              "      <td>121.048549</td>\n",
              "      <td>3.874670</td>\n",
              "      <td>3.915198</td>\n",
              "      <td>3.901596</td>\n",
              "    </tr>\n",
              "    <tr>\n",
              "      <th>std</th>\n",
              "      <td>6108.815450</td>\n",
              "      <td>27.835123</td>\n",
              "      <td>1.122413e+05</td>\n",
              "      <td>9.630538e+04</td>\n",
              "      <td>9.150560e+04</td>\n",
              "      <td>0.184204</td>\n",
              "      <td>0.177848</td>\n",
              "      <td>0.179559</td>\n",
              "      <td>0.244068</td>\n",
              "      <td>0.231337</td>\n",
              "      <td>...</td>\n",
              "      <td>0.153222</td>\n",
              "      <td>0.263016</td>\n",
              "      <td>0.252071</td>\n",
              "      <td>0.254818</td>\n",
              "      <td>31.953735</td>\n",
              "      <td>30.674660</td>\n",
              "      <td>30.855465</td>\n",
              "      <td>0.557827</td>\n",
              "      <td>0.417400</td>\n",
              "      <td>0.457088</td>\n",
              "    </tr>\n",
              "    <tr>\n",
              "      <th>min</th>\n",
              "      <td>160000.000000</td>\n",
              "      <td>3.000000</td>\n",
              "      <td>4.186000e+03</td>\n",
              "      <td>6.653000e+03</td>\n",
              "      <td>2.113000e+03</td>\n",
              "      <td>0.000000</td>\n",
              "      <td>0.000000</td>\n",
              "      <td>0.000000</td>\n",
              "      <td>0.000000</td>\n",
              "      <td>0.000020</td>\n",
              "      <td>...</td>\n",
              "      <td>0.000000</td>\n",
              "      <td>0.000000</td>\n",
              "      <td>0.000000</td>\n",
              "      <td>0.000000</td>\n",
              "      <td>0.000000</td>\n",
              "      <td>0.000000</td>\n",
              "      <td>0.000000</td>\n",
              "      <td>0.000000</td>\n",
              "      <td>0.000000</td>\n",
              "      <td>0.000000</td>\n",
              "    </tr>\n",
              "    <tr>\n",
              "      <th>25%</th>\n",
              "      <td>165307.250000</td>\n",
              "      <td>10.000000</td>\n",
              "      <td>1.495835e+05</td>\n",
              "      <td>1.700162e+05</td>\n",
              "      <td>1.695505e+05</td>\n",
              "      <td>0.458000</td>\n",
              "      <td>0.495000</td>\n",
              "      <td>0.499000</td>\n",
              "      <td>0.452000</td>\n",
              "      <td>0.494000</td>\n",
              "      <td>...</td>\n",
              "      <td>0.097800</td>\n",
              "      <td>0.242000</td>\n",
              "      <td>0.292000</td>\n",
              "      <td>0.284000</td>\n",
              "      <td>94.965000</td>\n",
              "      <td>96.073500</td>\n",
              "      <td>96.122250</td>\n",
              "      <td>4.000000</td>\n",
              "      <td>4.000000</td>\n",
              "      <td>4.000000</td>\n",
              "    </tr>\n",
              "    <tr>\n",
              "      <th>50%</th>\n",
              "      <td>170580.500000</td>\n",
              "      <td>13.000000</td>\n",
              "      <td>1.972530e+05</td>\n",
              "      <td>2.041800e+05</td>\n",
              "      <td>2.063460e+05</td>\n",
              "      <td>0.595000</td>\n",
              "      <td>0.629000</td>\n",
              "      <td>0.625000</td>\n",
              "      <td>0.635000</td>\n",
              "      <td>0.663000</td>\n",
              "      <td>...</td>\n",
              "      <td>0.126000</td>\n",
              "      <td>0.450000</td>\n",
              "      <td>0.496000</td>\n",
              "      <td>0.478000</td>\n",
              "      <td>119.852000</td>\n",
              "      <td>120.015000</td>\n",
              "      <td>120.034000</td>\n",
              "      <td>4.000000</td>\n",
              "      <td>4.000000</td>\n",
              "      <td>4.000000</td>\n",
              "    </tr>\n",
              "    <tr>\n",
              "      <th>75%</th>\n",
              "      <td>175870.750000</td>\n",
              "      <td>16.000000</td>\n",
              "      <td>2.423462e+05</td>\n",
              "      <td>2.437270e+05</td>\n",
              "      <td>2.446510e+05</td>\n",
              "      <td>0.713000</td>\n",
              "      <td>0.734000</td>\n",
              "      <td>0.740000</td>\n",
              "      <td>0.808000</td>\n",
              "      <td>0.813000</td>\n",
              "      <td>...</td>\n",
              "      <td>0.236000</td>\n",
              "      <td>0.665000</td>\n",
              "      <td>0.691750</td>\n",
              "      <td>0.683000</td>\n",
              "      <td>140.026000</td>\n",
              "      <td>140.991000</td>\n",
              "      <td>141.780750</td>\n",
              "      <td>4.000000</td>\n",
              "      <td>4.000000</td>\n",
              "      <td>4.000000</td>\n",
              "    </tr>\n",
              "    <tr>\n",
              "      <th>max</th>\n",
              "      <td>181206.000000</td>\n",
              "      <td>930.000000</td>\n",
              "      <td>3.664274e+06</td>\n",
              "      <td>5.625939e+06</td>\n",
              "      <td>3.369482e+06</td>\n",
              "      <td>0.980000</td>\n",
              "      <td>0.980000</td>\n",
              "      <td>0.985000</td>\n",
              "      <td>1.000000</td>\n",
              "      <td>1.000000</td>\n",
              "      <td>...</td>\n",
              "      <td>0.991000</td>\n",
              "      <td>1.000000</td>\n",
              "      <td>0.990000</td>\n",
              "      <td>1.000000</td>\n",
              "      <td>220.357000</td>\n",
              "      <td>220.030000</td>\n",
              "      <td>219.967000</td>\n",
              "      <td>5.000000</td>\n",
              "      <td>5.000000</td>\n",
              "      <td>5.000000</td>\n",
              "    </tr>\n",
              "  </tbody>\n",
              "</table>\n",
              "<p>8 rows × 38 columns</p>\n",
              "</div>\n",
              "      <button class=\"colab-df-convert\" onclick=\"convertToInteractive('df-6215e70b-a93f-4428-8bfe-24a54cf84439')\"\n",
              "              title=\"Convert this dataframe to an interactive table.\"\n",
              "              style=\"display:none;\">\n",
              "        \n",
              "  <svg xmlns=\"http://www.w3.org/2000/svg\" height=\"24px\"viewBox=\"0 0 24 24\"\n",
              "       width=\"24px\">\n",
              "    <path d=\"M0 0h24v24H0V0z\" fill=\"none\"/>\n",
              "    <path d=\"M18.56 5.44l.94 2.06.94-2.06 2.06-.94-2.06-.94-.94-2.06-.94 2.06-2.06.94zm-11 1L8.5 8.5l.94-2.06 2.06-.94-2.06-.94L8.5 2.5l-.94 2.06-2.06.94zm10 10l.94 2.06.94-2.06 2.06-.94-2.06-.94-.94-2.06-.94 2.06-2.06.94z\"/><path d=\"M17.41 7.96l-1.37-1.37c-.4-.4-.92-.59-1.43-.59-.52 0-1.04.2-1.43.59L10.3 9.45l-7.72 7.72c-.78.78-.78 2.05 0 2.83L4 21.41c.39.39.9.59 1.41.59.51 0 1.02-.2 1.41-.59l7.78-7.78 2.81-2.81c.8-.78.8-2.07 0-2.86zM5.41 20L4 18.59l7.72-7.72 1.47 1.35L5.41 20z\"/>\n",
              "  </svg>\n",
              "      </button>\n",
              "      \n",
              "  <style>\n",
              "    .colab-df-container {\n",
              "      display:flex;\n",
              "      flex-wrap:wrap;\n",
              "      gap: 12px;\n",
              "    }\n",
              "\n",
              "    .colab-df-convert {\n",
              "      background-color: #E8F0FE;\n",
              "      border: none;\n",
              "      border-radius: 50%;\n",
              "      cursor: pointer;\n",
              "      display: none;\n",
              "      fill: #1967D2;\n",
              "      height: 32px;\n",
              "      padding: 0 0 0 0;\n",
              "      width: 32px;\n",
              "    }\n",
              "\n",
              "    .colab-df-convert:hover {\n",
              "      background-color: #E2EBFA;\n",
              "      box-shadow: 0px 1px 2px rgba(60, 64, 67, 0.3), 0px 1px 3px 1px rgba(60, 64, 67, 0.15);\n",
              "      fill: #174EA6;\n",
              "    }\n",
              "\n",
              "    [theme=dark] .colab-df-convert {\n",
              "      background-color: #3B4455;\n",
              "      fill: #D2E3FC;\n",
              "    }\n",
              "\n",
              "    [theme=dark] .colab-df-convert:hover {\n",
              "      background-color: #434B5C;\n",
              "      box-shadow: 0px 1px 3px 1px rgba(0, 0, 0, 0.15);\n",
              "      filter: drop-shadow(0px 1px 2px rgba(0, 0, 0, 0.3));\n",
              "      fill: #FFFFFF;\n",
              "    }\n",
              "  </style>\n",
              "\n",
              "      <script>\n",
              "        const buttonEl =\n",
              "          document.querySelector('#df-6215e70b-a93f-4428-8bfe-24a54cf84439 button.colab-df-convert');\n",
              "        buttonEl.style.display =\n",
              "          google.colab.kernel.accessAllowed ? 'block' : 'none';\n",
              "\n",
              "        async function convertToInteractive(key) {\n",
              "          const element = document.querySelector('#df-6215e70b-a93f-4428-8bfe-24a54cf84439');\n",
              "          const dataTable =\n",
              "            await google.colab.kernel.invokeFunction('convertToInteractive',\n",
              "                                                     [key], {});\n",
              "          if (!dataTable) return;\n",
              "\n",
              "          const docLinkHtml = 'Like what you see? Visit the ' +\n",
              "            '<a target=\"_blank\" href=https://colab.research.google.com/notebooks/data_table.ipynb>data table notebook</a>'\n",
              "            + ' to learn more about interactive tables.';\n",
              "          element.innerHTML = '';\n",
              "          dataTable['output_type'] = 'display_data';\n",
              "          await google.colab.output.renderOutput(dataTable, element);\n",
              "          const docLink = document.createElement('div');\n",
              "          docLink.innerHTML = docLinkHtml;\n",
              "          element.appendChild(docLink);\n",
              "        }\n",
              "      </script>\n",
              "    </div>\n",
              "  </div>\n",
              "  "
            ]
          },
          "metadata": {},
          "execution_count": 30
        }
      ],
      "source": [
        "df1.describe()"
      ]
    },
    {
      "cell_type": "markdown",
      "metadata": {
        "id": "PmH2l3tOQmbA"
      },
      "source": [
        "De esta manera podemos ver que todos los datos nan que tenían (-1) fueron eliminados y sustituidos"
      ]
    },
    {
      "cell_type": "code",
      "source": [
        "df1.isnull().sum()"
      ],
      "metadata": {
        "colab": {
          "base_uri": "https://localhost:8080/"
        },
        "id": "EATEd5CE_HdG",
        "outputId": "67fcf916-12d9-4f91-9419-827da6bee24b"
      },
      "execution_count": 31,
      "outputs": [
        {
          "output_type": "execute_result",
          "data": {
            "text/plain": [
              "id              0\n",
              "name            0\n",
              "release_date    0\n",
              "artists         0\n",
              "total_tracks    0\n",
              "t_name0         0\n",
              "t_name1         0\n",
              "t_name2         0\n",
              "t_dur0          0\n",
              "t_dur1          0\n",
              "t_dur2          0\n",
              "t_dance0        0\n",
              "t_dance1        0\n",
              "t_dance2        0\n",
              "t_energy0       0\n",
              "t_energy1       0\n",
              "t_energy2       0\n",
              "t_key0          0\n",
              "t_key1          0\n",
              "t_key2          0\n",
              "t_mode0         0\n",
              "t_mode1         0\n",
              "t_mode2         0\n",
              "t_speech0       0\n",
              "t_speech1       0\n",
              "t_speech2       0\n",
              "t_acous0        0\n",
              "t_acous1        0\n",
              "t_acous2        0\n",
              "t_ins0          0\n",
              "t_ins1          0\n",
              "t_ins2          0\n",
              "t_live0         0\n",
              "t_live1         0\n",
              "t_live2         0\n",
              "t_val0          0\n",
              "t_val1          0\n",
              "t_val2          0\n",
              "t_tempo0        0\n",
              "t_tempo1        0\n",
              "t_tempo2        0\n",
              "t_sig0          0\n",
              "t_sig1          0\n",
              "t_sig2          0\n",
              "dtype: int64"
            ]
          },
          "metadata": {},
          "execution_count": 31
        }
      ]
    },
    {
      "cell_type": "markdown",
      "source": [
        "Aplicada la misma limpieza al conjunto de datos de prueba, que en el conjunto de datos de entrenamiento;finalmente la exportamos como 'df_prueba'"
      ],
      "metadata": {
        "id": "hS1suDCW_VvF"
      }
    },
    {
      "cell_type": "code",
      "source": [
        "df_prueba = df1"
      ],
      "metadata": {
        "id": "LOBj5-Yf_j0q"
      },
      "execution_count": 32,
      "outputs": []
    },
    {
      "cell_type": "code",
      "source": [
        "df_prueba.shape"
      ],
      "metadata": {
        "id": "KQvo6OF7Aiw5",
        "outputId": "24235c9d-b49f-4104-fb77-609eb7f9a4c4",
        "colab": {
          "base_uri": "https://localhost:8080/"
        }
      },
      "execution_count": 33,
      "outputs": [
        {
          "output_type": "execute_result",
          "data": {
            "text/plain": [
              "(14410, 44)"
            ]
          },
          "metadata": {},
          "execution_count": 33
        }
      ]
    },
    {
      "cell_type": "code",
      "source": [
        "df_prueba.to_csv('/content/drive/MyDrive/Coding Dojo/Proyecto 2/Df_prueba/df_prueba.csv')"
      ],
      "metadata": {
        "id": "-TLY1PB-_Llc"
      },
      "execution_count": 34,
      "outputs": []
    }
  ]
}